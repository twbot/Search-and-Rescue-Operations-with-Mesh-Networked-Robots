{
 "cells": [
  {
   "cell_type": "code",
   "execution_count": 6,
   "metadata": {},
   "outputs": [],
   "source": [
    "#!/usr/bin/env python3\n",
    "\n",
    "import rospy\n",
    "import math\n",
    "import xbee as xlib\n",
    "import time\n",
    "import struct\n",
    "import re\n",
    "import argparse\n",
    "import math\n",
    "import csv\n",
    "import os\n",
    "\n",
    "from mavros_msgs.msg import OverrideRCIn, BatteryStatus\n",
    "from mavros_msgs.srv import SetMode, CommandBool, CommandTOL\n",
    "from digi.xbee.models.address import XBee64BitAddress\n",
    "from digi.xbee.devices import ZigBeeDevice\n",
    "from digi.xbee.packets.base import DictKeys\n",
    "from digi.xbee.exception import XBeeException, ConnectionException, ATCommandException, InvalidOperatingModeException\n",
    "from digi.xbee.util import utils\n",
    "from digi.xbee.io import IOLine, IOMode"
   ]
  },
  {
   "cell_type": "markdown",
   "metadata": {},
   "source": [
    "Above are imported libraries. Ensure that ros is installed on the machine. From there, you will be able to import the rospy library."
   ]
  },
  {
   "cell_type": "code",
   "execution_count": 8,
   "metadata": {},
   "outputs": [],
   "source": [
    "system_nodes = {}\n",
    "rssi_table = []\n",
    "\n",
    "xbee = ZigBeeDevice(\"/dev/ttyUSB0\", 9600)\n",
    "power_level = 2\n",
    "api_mode = 2\n",
    "hierarchy = 0\n",
    "node_id = ''\n",
    "address = ''\n",
    "received_packet = None\n",
    "battery = 1\n",
    "nodes = []\n",
    "node_rely = None\n",
    "node_send = None\n",
    "rssi_rely = 0\n",
    "rssi_margin_left = 0\n",
    "rssi_margin_right = 0\n",
    "rssi_thresh_right = 0\n",
    "rssi_thresh_left = 0\n",
    "current_rssi = 0\n",
    "data = []\n",
    "rssi_avg = 0\n",
    "rssi_hist = []\n",
    "turning_hist = []\n",
    "data_hist = []\n",
    "avg_count = 5\n",
    "rssi_margin = 2\n",
    "rssi_thresh = 10\n",
    "vehicle = None\n",
    "packets_sent = 0\n",
    "throttle = 0;"
   ]
  },
  {
   "cell_type": "markdown",
   "metadata": {},
   "source": [
    "Various global variables that will be used throughout the running of the machine. More information regarding why some of the variables are created can be found here: http://wiki.ros.org/mavros. For each robot, a Zigbee device is instantiated at line 4 (assuming the Zigbee is situated under the UART-over-USB class of devices at index 0).\n",
    "More information regarding the xbee library provided by digi may be examined here: https://xbplib.readthedocs.io/en/latest/index.html."
   ]
  },
  {
   "cell_type": "code",
   "execution_count": null,
   "metadata": {},
   "outputs": [],
   "source": [
    "#Publisher for rc data (turning angle, throttle)\n",
    "rc_pub = rospy.Publisher('/mavros/rc/override', OverrideRCIn, queue_size=10)"
   ]
  },
  {
   "cell_type": "markdown",
   "metadata": {},
   "source": [
    "This creates a rospy Publisher that publishes to the topic '/mavros/rc/override', with msg OverrideRCIn (details here: http://docs.ros.org/melodic/api/mavros_msgs/html/msg/OverrideRCIn.html) and a queue size of 10. More details about rospy publishing here: http://wiki.ros.org/rospy/Overview/Publishers%20and%20Subscribers."
   ]
  },
  {
   "cell_type": "code",
   "execution_count": null,
   "metadata": {},
   "outputs": [],
   "source": [
    "if __name__ == '__main__':\n",
    "\n",
    "    # Parse arguments\n",
    "    parser = argparse.ArgumentParser()\n",
    "    parser.add_argument('vehicle_type', help='Type of Vehicle: Copter or Rover', choices=['Rover', 'Copter'],  default='Rover')\n",
    "    parser.add_argument('init_velocity', help='Initial velocity of vehicles', nargs='?', default=1650)\n",
    "    parser.add_argument('threshold', help='Threshold for RSSI')\n",
    "    args = parser.parse_args()\n",
    "\n",
    "    response = None\n",
    "    if(args.vehicle_type == 'Copter'):\n",
    "        rospy.wait_for_service('/mavros/set_mode')\n",
    "        change_mode = rospy.ServiceProxy('/mavros/set_mode', SetMode)\n",
    "        response = change_mode(custom_mode=\"guided\")\n",
    "        print(response)\n",
    "    elif(args.vehicle_type == 'Rover'):\n",
    "        rospy.wait_for_service('/mavros/set_mode')\n",
    "        change_mode = rospy.ServiceProxy('/mavros/set_mode', SetMode)\n",
    "        response = change_mode(custom_mode=\"manual\")\n",
    "        print(response)\n",
    "    \n",
    "    if \"True\" in str(response):\n",
    "        try:\n",
    "            main(args.vehicle_type, args.init_velocity, args.threshold)\n",
    "        except rospy.ROSInterruptException:\n",
    "            rospy.logerr(\"Problem changing operating mode\")\n",
    "            pass"
   ]
  },
  {
   "cell_type": "markdown",
   "metadata": {},
   "source": [
    "When you first run the program, a couple of arguments are required, such as:\n",
    "    (1): The type of vehicle (Rover or QuadCopter)\n",
    "    (2): The desired starting velocity of the vehicles\n",
    "    (3): A threshold value for the RSSI value\n",
    "\n",
    "When arguments are provided, depending on the vehicle type, the modes are set accordingly. (Mode types info detailed here: http://ardupilot.org/rover/docs/rover-control-modes.html & http://ardupilot.org/copter/docs/flight-modes.html).\n",
    "\n",
    "If the modes are succesfully set, main is run with the given arguments."
   ]
  },
  {
   "cell_type": "code",
   "execution_count": null,
   "metadata": {},
   "outputs": [],
   "source": [
    "def main(vehicle_type, velocity, threshold):\n",
    "    #Set global variables for:\n",
    "    # - vehicle throttle (based on coordinator's throttle)\n",
    "    # - vehicle type\n",
    "    # - RSSI thresholding\n",
    "    global throttle\n",
    "    throttle = velocity\n",
    "    global vehicle\n",
    "    vehicle = vehicle_type\n",
    "    global rssi_margin\n",
    "    rssi_margin = threshold\n",
    "\n",
    "    rospy.init_node('Search_Run')\n",
    "    r = rospy.Rate(30)\n",
    "    mission_complete = 0\n",
    "\n",
    "    net_instantiated = instantiate_zigbee_network()"
   ]
  },
  {
   "cell_type": "markdown",
   "metadata": {},
   "source": [
    "Some global variables are set initially with the given arguments.\n",
    "\n",
    "At line 13, we begin a new ros node and set the rate.\n",
    "\n",
    "At line 17, we run 'instantiate_zigbee_network()', which instantiates the network."
   ]
  },
  {
   "cell_type": "code",
   "execution_count": null,
   "metadata": {},
   "outputs": [],
   "source": [
    "#Function called at beginning to find nodes and instantiate the location of other\n",
    "#nodes in the system, relative to one another\n",
    "def instantiate_zigbee_network():\n",
    "    try:\n",
    "        print(\"Opening xbee port\")\n",
    "        xbee.open()\n",
    "        print(\"Setting Power Level\")\n",
    "        xbee.set_parameter('PL', utils.int_to_bytes(power_level, num_bytes=1))\n",
    "        print(\"Setting API Mode\")\n",
    "        xbee.set_parameter('AP', utils.int_to_bytes(api_mode, num_bytes=1))\n",
    "        xbee.set_io_configuration(IOLine.DIO4_AD4, IOMode.DISABLED)\n",
    "        print(\"Getting self id\")\n",
    "        global node_id\n",
    "        node_id = xbee.get_node_id()\n",
    "        global address\n",
    "        address = str(xbee.get_64bit_addr())\n",
    "        print(\"This Node ID: \", node_id)\n",
    "        print(\"Is Remote: \", xbee.is_remote())\n",
    "        print(\"Power Level: \", xbee.get_power_level())\n",
    "\n",
    "        print(\"Entering discovery mode...\\n\")\n",
    "\n",
    "        xnet = xbee.get_network()\n",
    "        xnet.set_discovery_timeout(15)\n",
    "        xnet.clear()\n",
    "\n",
    "        xnet.add_device_discovered_callback(xlib.discoverCallback)\n",
    "        xnet.add_discovery_process_finished_callback(xlib.discoverCompleteCallback)\n",
    "        xnet.start_discovery_process()\n",
    "\n",
    "        while xnet.is_discovery_running():\n",
    "            time.sleep(0.5)\n",
    "        global nodes\n",
    "        nodes = xnet.get_devices()\n",
    "        data = 'Zigbee node %s sending data' % (xbee.get_node_id())\n",
    "\n",
    "        return 1\n",
    "\n",
    "    except ConnectionException:\n",
    "        print('Error Connection')\n",
    "        xbee.close()\n",
    "        return 0\n",
    "    except ATCommandException:\n",
    "        print('Response of the command is not valid : ATCommandException')\n",
    "        xbee.close()\n",
    "        return 0\n",
    "    except InvalidOperatingModeException:\n",
    "        print('Not in API Mode')\n",
    "        xbee.close()\n",
    "        return 0"
   ]
  },
  {
   "cell_type": "markdown",
   "metadata": {},
   "source": [
    "We start by opening the xbee port and setting some parameters for the xbee module.\n",
    "\n",
    "The power level is set to pl=2, where the default power level is 4. This will set the Xbee to +14 dBm (approximate).\n",
    "\n",
    "|P(dBm)|     P(mW)    |                       |\n",
    "|------|--------------|-----------------------|\n",
    "|  50  |  100000      |                       |\n",
    "|  40  |  10000       |  Stronger transmitter |\n",
    "|  30  |  1000        |             ↑         |\n",
    "|  20  |  100         |             ↑         |\n",
    "|  10  |   10         |             ↑         |\n",
    "|   0  |    1         |                       |\n",
    "| -10  |  0.1         |                       |\n",
    "| -20  |  0.01        |                       |\n",
    "| -30  |  0.001       |                       |\n",
    "| -40  |  0.0001      |                       |\n",
    "| -50  |  0.00001     |             ↓         |\n",
    "| -60  |  0.000001    |             ↓         |\n",
    "| -70  |  0.0000001   |             ↓         |\n",
    "| -80  |  0.00000001  |More Sensitive receiver|\n",
    "| -90  |  0.000000001 |                       |\n",
    "\n",
    "\n",
    "\n",
    "Info on power level setting and associated dBm can be found in xbee digi docs here: https://www.digi.com/resources/documentation/Digidocs/90002002/Default.htm#Reference/r_cmd_PL.htm%3FTocPath%3DAT%2520commands%7CRF%2520interfacing%2520commands%7C_____1.\n",
    "\n",
    "API mode is then set to 2 to allow escaped sequences: https://www.digi.com/resources/documentation/Digidocs/90002002/Content/Reference/r_api_frame_format_900hp.htm.\n",
    "\n",
    "We then call a few other functions related to the finding of other nodes on the network. More info related to these functions found here: https://xbplib.readthedocs.io/en/latest/user_doc/discovering_the_xbee_network.html.\n",
    "\n",
    "When a new remote xbee device is found, the callback function is executed and the functions 'discoverCallback' and 'discoverCompleteCallback' defined below are run.\n",
    "\n"
   ]
  },
  {
   "cell_type": "code",
   "execution_count": null,
   "metadata": {},
   "outputs": [],
   "source": [
    "#!/usr/bin/env python3\n",
    "\n",
    "from digi.xbee.devices import XBeeDevice, ZigBeeDevice\n",
    "from digi.xbee.models.status import NetworkDiscoveryStatus\n",
    "from digi.xbee.packets.base import DictKeys, OperatingMode\n",
    "import digi.xbee.packets.base as packets\n",
    "import time\n",
    "\n",
    "def discoverCallback(remote):\n",
    "    print(\"Device discovered: %s\" % remote)\n",
    "\n",
    "def discoverCompleteCallback(status):\n",
    "    if status == NetworkDiscoveryStatus.ERROR_READ_TIMEOUT:\n",
    "        print(\"Error recieving devices: %s\" % status.description)\n",
    "    elif status == NetworkDiscoveryStatus.SUCCESS:\n",
    "        print(\"Discovery process complete\")\n",
    "\n",
    "def packet_received_callback(packet):\n",
    "    packet_dict = packet.to_dict()\n",
    "    api_data = packet_dict[DictKeys.FRAME_SPEC_DATA][DictKeys.API_DATA]\n",
    "    print(api_data)\n",
    "\n",
    "def data_received_callback(xbee_message):\n",
    "    address = xbee_message.remote_device\n",
    "    data = xbee_message.data.decode()\n",
    "    return address"
   ]
  },
  {
   "cell_type": "markdown",
   "metadata": {},
   "source": [
    "After discovery of nodes are complete, either via timeout or max number of nodes, the function returns a value of 1 to confirm success of node instantiation.\n"
   ]
  },
  {
   "cell_type": "code",
   "execution_count": null,
   "metadata": {},
   "outputs": [],
   "source": [
    "#IN MAIN\n",
    "net_instantiated = instantiate_zigbee_network()\n",
    "arch_instantiated = determine_architecture()\n",
    "print('Net Instantiated') if net_instantiated else print('Net failed to instantiated')\n",
    "print('Architecture Instantiated') if arch_instantiated else print('Architecture failed to instantiate')"
   ]
  },
  {
   "cell_type": "markdown",
   "metadata": {},
   "source": [
    "Below is the code for 'determine_architecture()'. It is commented out already, and once finished returns a value of 1 to continue in main. This also calls init_rssi_table which creates a table of rssi's for each node based on starting position of devices and their respective rssi relative to Coordinator node."
   ]
  },
  {
   "cell_type": "code",
   "execution_count": null,
   "metadata": {},
   "outputs": [],
   "source": [
    "def determine_architecture():\n",
    "    if(node_id == 'COORDINATOR'):\n",
    "        #Grab a node from list of nodes in system, send data, and determine RSSI\n",
    "        #from received packet\n",
    "        for node in nodes:\n",
    "            count = 0\n",
    "            sending_node = None\n",
    "            rssi_det = []\n",
    "            #Average all RSSI values received from determined node\n",
    "            while count < avg_count:\n",
    "                xbee.send_data(node,\"DATREQ\")\n",
    "                data = None\n",
    "                time_pass = 0\n",
    "                start_time = time.time()\n",
    "                while data == None:\n",
    "                    packet = xbee.read_data()\n",
    "                    data = packet\n",
    "                    #If no packet is received in 6 seconds,\n",
    "                    #exit program\n",
    "                    time_pass = check_time(start_time, 6)\n",
    "                    if(time_pass):\n",
    "                        rospy.logerr('Could not retreive data from node: ')\n",
    "                        rospy.logerr(node)\n",
    "                        return 0\n",
    "                count = count + 1\n",
    "                sending_node = data.remote_device\n",
    "                rssi_det.append(int(data.data.decode()))\n",
    "            rssi = float(sum(rssi_det)/len(rssi_det))\n",
    "            #Add node and corresponding RSSI to RSSI table\n",
    "            init_rssi_table(sending_node, rssi)\n",
    "        self_node = {}\n",
    "        self_node[\"node\"] = str(address)\n",
    "        self_node[\"rssi\"] = 0\n",
    "        rssi_table.append(self_node)\n",
    "        #Once all nodes have been determined, along with corresponding RSSI's\n",
    "        #sort data table by values with lowest absolute valued RSSI\n",
    "        sort_table_by_rssi()\n",
    "    else:\n",
    "        count = 0\n",
    "        #Receive N data packets from Coordinator\n",
    "        while count < avg_count:\n",
    "            data = None\n",
    "            #Continue checking for packet received\n",
    "            while data == None:\n",
    "                packet = xbee.read_data()\n",
    "                data = packet\n",
    "            val = data.data.decode()\n",
    "            sending_node = data.remote_device\n",
    "            #Send RSSI data back to remote device\n",
    "            if val == 'DATREQ':\n",
    "                rssi = get_RSSI()\n",
    "                string = str(rssi).encode()\n",
    "                xbee.send_data(sending_node, string)\n",
    "            count = count + 1\n",
    "    return 1"
   ]
  },
  {
   "cell_type": "markdown",
   "metadata": {},
   "source": [
    "Functions that create the rssi table. We use regular expressions in order to find the RSSI from the packet data."
   ]
  },
  {
   "cell_type": "code",
   "execution_count": null,
   "metadata": {},
   "outputs": [],
   "source": [
    "def init_rssi_table(node_sent, rssi):\n",
    "    sending_node = define_node(node_sent)\n",
    "    node = {}\n",
    "    node[\"node\"] = str(sending_node)\n",
    "    node[\"rssi\"] = rssi\n",
    "    rssi_table.append(node)"
   ]
  },
  {
   "cell_type": "code",
   "execution_count": null,
   "metadata": {},
   "outputs": [],
   "source": [
    "def define_node(node):\n",
    "    node = re.findall(r'[\\w\\d]+', str(node))\n",
    "    return node[0]"
   ]
  },
  {
   "cell_type": "markdown",
   "metadata": {},
   "source": [
    "Once both 'instantiate_zigbee_network()' and 'determine_architecture()' are called and complete with success, the rssi table is then sent to each node in the code below. It then prints to the console in order to allow user to confirm RSSI calculations were accurate.\n"
   ]
  },
  {
   "cell_type": "code",
   "execution_count": null,
   "metadata": {},
   "outputs": [],
   "source": [
    "#IN MAIN\n",
    "init_complete = 0\n",
    "if arch_instantiated and net_instantiated:\n",
    "    init_complete = send_rssi_table()\n",
    "\n",
    "for x in rssi_table:\n",
    "    print(x[\"node\"], \" : \", x[\"rssi\"])"
   ]
  },
  {
   "cell_type": "markdown",
   "metadata": {},
   "source": [
    "We then go on to determine the neighbors for each node. We do so using the function 'determine_neighbors()'. The function is already commented out. Each rover/copter relies on the node to the left of it, and can be changed by allowing the coordinator to be right of all other nodes, and setting *node_rely* to be that on the right of each node. A *node_send* is also determined, which is the node the current node will send packets to, in order for the *node_send* to determine the RSSI."
   ]
  },
  {
   "cell_type": "code",
   "execution_count": null,
   "metadata": {},
   "outputs": [],
   "source": [
    "#IN MAIN\n",
    "determined_neighbors = 0\n",
    "if init_complete:\n",
    "    determined_neighbors = determine_neighbors()"
   ]
  },
  {
   "cell_type": "code",
   "execution_count": null,
   "metadata": {},
   "outputs": [],
   "source": [
    "def determine_neighbors():\n",
    "    index = 0\n",
    "    #Grab self index within RSSI table\n",
    "    for node in rssi_table:\n",
    "        if node[\"node\"] == address:\n",
    "            index = rssi_table.index(node)\n",
    "    #If first in table, set node_rely to None (Coordinator)\n",
    "    global node_rely\n",
    "    if index == 0:\n",
    "        node_rely = None\n",
    "    #Else determine node_rely to be index below current index\n",
    "    else:\n",
    "        node_val = rssi_table[index-1]\n",
    "        for node in nodes:\n",
    "            if node_val[\"node\"] == str(node.get_64bit_addr()):\n",
    "                node_rely = node\n",
    "    #If last in table, set node_rely to None\n",
    "    global node_send\n",
    "    if index == (len(rssi_table)-1):\n",
    "        node_send = None\n",
    "    #Else determine node_rely to be index above current index\n",
    "    else:\n",
    "        node_val = rssi_table[index+1]\n",
    "        for node in nodes:\n",
    "            if node_val[\"node\"] == str(node.get_64bit_addr()):\n",
    "                node_send = node\n",
    "    return 1"
   ]
  },
  {
   "cell_type": "markdown",
   "metadata": {},
   "source": [
    "Once each node determines the node id of the node it will be relying on for its positioning, we grab the RSSI value relative to the node of which each node will be relying on, in order to determine the starting RSSI value.\n",
    "These starting relative RSSI values are determined in the function 'determine_rssi_value()'."
   ]
  },
  {
   "cell_type": "code",
   "execution_count": null,
   "metadata": {},
   "outputs": [],
   "source": [
    "#IN MAIN\n",
    "rssi_determined = 0\n",
    "if determined_neighbors:\n",
    "    rssi_determined = determine_rssi_value()"
   ]
  },
  {
   "cell_type": "code",
   "execution_count": null,
   "metadata": {},
   "outputs": [],
   "source": [
    "def determine_rssi_value():\n",
    "    if node_send:\n",
    "        xbee.send_data(node_send,\"RSSI_DET\")\n",
    "    if not node_id == 'COORDINATOR':\n",
    "\n",
    "        data = None\n",
    "        time_pass = 0\n",
    "        start_time = time.time()\n",
    "        rssi_found = 0\n",
    "        while data == None:\n",
    "            packet = xbee.read_data()\n",
    "            data = packet\n",
    "            time_pass = check_time(start_time, 6)\n",
    "            if(time_pass):\n",
    "                rospy.logerr('Could not retreive data from node: ')\n",
    "                rospy.logerr(node)\n",
    "                return 0\n",
    "        rssi = get_RSSI()\n",
    "        rospy.loginfo(\"Starting RSSI\")\n",
    "        rospy.loginfo(rssi)\n",
    "        rospy.loginfo('Data Retrieved')\n",
    "        sending_node = data.remote_device\n",
    "        data = data.data.decode()\n",
    "        if (sending_node == node_rely) and (data == 'RSSI_DET'):\n",
    "            global rssi_rely\n",
    "            rssi_rely = rssi\n",
    "\n",
    "    #Update margin-of-error and thresholding values\n",
    "    global rssi_margin_right\n",
    "    rssi_margin_right = rssi_rely+rssi_margin\n",
    "    global rssi_margin_left\n",
    "    rssi_margin_left = rssi_rely-rssi_margin\n",
    "    global rssi_thresh_right\n",
    "    rssi_thresh_right = rssi_rely+rssi_thresh\n",
    "    global rssi_thresh_left\n",
    "    rssi_thresh_left = rssi_rely-rssi_thresh\n",
    "    \n",
    "    #Update RSSI history table with current value RSSI\n",
    "    count = 0\n",
    "    while count < avg_count:\n",
    "        rssi_hist.append(rssi_rely)\n",
    "        count = count + 1\n",
    "    return 1"
   ]
  },
  {
   "cell_type": "markdown",
   "metadata": {},
   "source": [
    "This function is similar in function to 'determine_architecture()', however instead only determining the RSSi value relative to each nodes *node_rely*. We do so by sending a packet to each nodes' *node_send*, and setting the margin of error, as well as the threshold (where threshold will be the point at which a rotor/copter will need to deviate from its current path). We append this newfound RSSI value to an array of past RSSI values, which will average out these RSSI values (in the file w/o gaussian filtering) or filter these values (in the file w/ gaussian filtering) and determine a more accurate RSSI value, as there is quite a bit of noise in the field caused by an array of factors."
   ]
  },
  {
   "cell_type": "markdown",
   "metadata": {},
   "source": [
    "----------------------------------\n",
    "The remaining code of main will be called continuously while rospy is not shutdown and the 'mission' is not complete. The defined mission was initially a qr code detected in the field, but I was unable to do so in the defined time span. So, as of now, *mission_complete* is a dummy variable that calls 'check_time()' which calculates the amount of time passed, and when a time limit is hit changes value. While this is run, the node continuously checks the RSSI value relative to its *node_rely* and determines future action from that point. As you can see, the variable *current_rssi* averages out the RSSI values (since this is in the file w/o gaussian filtering) and filters (in the file w/ gaussian filtering). If the vehicle is not the *Coordinator*, we call 'coordinate_rover_control()', whereas if it is a coordinator 'determined_path_rover()' is called, which is a function with a pre-defined set of steering values given a throttle value. You may change it so that the *Coordinator* vehicle is controlled remotely from a laptop or joystick, as mavros supports remote inputs."
   ]
  },
  {
   "cell_type": "code",
   "execution_count": null,
   "metadata": {},
   "outputs": [],
   "source": [
    "#IN MAIN\n",
    "if rssi_determined:\n",
    "        exec_time = 30\n",
    "        mission_start_time = time.time()\n",
    "        while (not rospy.is_shutdown()) and (not mission_complete):\n",
    "            mission_complete = check_time(mission_start_time, exec_time)\n",
    "            global throttle\n",
    "            send_ack(throttle)\n",
    "            received = xbee.read_data()\n",
    "            if received:\n",
    "                throttle = determine_RSSI(received)\n",
    "            global current_rssi\n",
    "            current_rssi = float(sum(rssi_hist[-4:])/len(rssi_hist[-4:]))\n",
    "            rospy.Subscriber(\"/mavros/battery\", BatteryStatus, battery_callback)\n",
    "            rospy.loginfo(\"RSSI Val: \")\n",
    "            rospy.loginfo(current_rssi)\n",
    "            rospy.loginfo(\"Throttle: \")\n",
    "            rospy.loginfo(throttle)\n",
    "            # if vehicle == 'Copter' and node_id != 'COORDINATOR':\n",
    "               # coordinate_copter_control()\n",
    "            # if vehicle == 'Copter' and node_id == 'COORDINATOR':\n",
    "               # determined_path_copter(mission_start_time, throttle)\n",
    "            if vehicle == 'Rover' and node_id != 'COORDINATOR':\n",
    "                coordinate_rover_control(throttle)\n",
    "            if vehicle == 'Rover' and node_id == 'COORDINATOR':\n",
    "                determined_path_rover(mission_start_time, throttle)\n",
    "            r.sleep()\n",
    "    \n",
    "    else:\n",
    "        on_end()\n",
    "\n",
    "    rospy.on_shutdown(on_end)"
   ]
  },
  {
   "cell_type": "code",
   "execution_count": null,
   "metadata": {},
   "outputs": [],
   "source": [
    "def coordinate_rover_control(throttle):\n",
    "    yaw = 1500\n",
    "    scale = 7\n",
    "    steer_range = 400\n",
    "\n",
    "    if current_rssi < rssi_margin_right and current_rssi > rssi_margin_left:\n",
    "        coordinate_rover_velocities(yaw, throttle)\n",
    "        rospy.logerr(\"Going Straight\")\n",
    "    else:\n",
    "        value = current_rssi - rssi_rely\n",
    "        magnitude = abs(value)\n",
    "        value_scaled = (magnitude/rssi_thresh)*scale\n",
    "\n",
    "        def function(x):\n",
    "            return 0.34*math.pow(x, 2)\n",
    "\n",
    "        def function2(x):\n",
    "            return 0.8*math.pow(math.e, x)\n",
    "\n",
    "        steer_angle = 0\n",
    "        if value < 0:\n",
    "            steer_angle = function2(value_scaled)\n",
    "        elif value > 0:\n",
    "            steer_angle = -function(value_scaled)\n",
    "        yaw = 1500+(steer_angle/scale)*steer_range\n",
    "        if (yaw > 1900):\n",
    "            yaw = 1900\n",
    "        elif (yaw < 1100):\n",
    "            yaw = 1100\n",
    "        turning_hist.append(unsigned(int(yaw)))\n",
    "        rospy.loginfo(\"Yaw\")\n",
    "        rospy.loginfo(yaw)\n",
    "        coordinate_rover_velocities(yaw, throttle)"
   ]
  },
  {
   "cell_type": "code",
   "execution_count": null,
   "metadata": {},
   "outputs": [],
   "source": [
    "def determined_path_rover(start_time, throttle):\n",
    "    sample_time = time.time()\n",
    "    yaw = 1500\n",
    "    if ((sample_time - start_time) > 5) and ((sample_time - start_time) < 5.5):\n",
    "        yaw = 1300\n",
    "    if ((sample_time - start_time) > 8) and ((sample_time - start_time) < 9):\n",
    "        yaw = 1700\n",
    "    if ((sample_time - start_time) > 12) and ((sample_time - start_time) < 13):\n",
    "        yaw = 1300\n",
    "    if ((sample_time - start_time) > 13) and ((sample_time - start_time) < 13.9):\n",
    "        yaw = 1500\n",
    "    if ((sample_time - start_time) > 15) and ((sample_time - start_time) < 16):\n",
    "        yaw = 1500\n",
    "    # if ((sample_time - start_time) > 16.4) and ((sample_time - start_time) < 16.7):\n",
    "    #     yaw = 1350\n",
    "    # if ((sample_time - start_time) > 16.7) and ((sample_time - start_time) < 17.4):\n",
    "    #     yaw = 1750\n",
    "    # if ((sample_time - start_time) > 17.5) and ((sample_time - start_time) < 18):\n",
    "    #     yaw = 1350\n",
    "    # if ((sample_time - start_time) > 18) and ((sample_time - start_time) < 19):\n",
    "    #     yaw = 1500\n",
    "    # if ((sample_time - start_time) > 15) and ((sample_time - start_time) < 16):\n",
    "    #     yaw = 1500\n",
    "    coordinate_rover_velocities(yaw, throttle)"
   ]
  },
  {
   "cell_type": "markdown",
   "metadata": {},
   "source": [
    "These both call either 'coordinate_rover_velocities()' or 'coordinate_copter_velocities()' depending on vehicle type. Before the end of my stint at the REU I had just begun work on autonomous copter control based on the parameters, so the code may still be in the copter or it is lost, as it is nowhere to be found on my local machine. However, both of these functions augment the channels for message type OverrideRCIn, where information regading override may be found here: http://docs.erlerobotics.com/erle_robots/erle_copter/examples/overriding_radio_controller."
   ]
  },
  {
   "cell_type": "code",
   "execution_count": null,
   "metadata": {},
   "outputs": [],
   "source": [
    "def coordinate_rover_velocities(yaw, throttle):\n",
    "    yaw = unsigned(int(yaw))\n",
    "    value = (yaw, current_rssi)\n",
    "    data_hist.append(value)\n",
    "    throttle = unsigned(int(throttle))\n",
    "    msg = OverrideRCIn()\n",
    "    msg.channels[0] = yaw\n",
    "    msg.channels[1] = 0\n",
    "    msg.channels[2] = throttle\n",
    "    msg.channels[3] = 0\n",
    "    msg.channels[4] = 0\n",
    "    msg.channels[5] = 0\n",
    "    msg.channels[6] = 0\n",
    "    msg.channels[7] = 0\n",
    "    rc_pub.publish(msg)   \n",
    "\n",
    "def coordinate_copter_velocities(roll, pitch, throttle, yaw):\n",
    "    msg = OverrideRCIn()\n",
    "    msg.channels[0] = roll\n",
    "    msg.channels[1] = pitch\n",
    "    msg.channels[2] = throttle\n",
    "    msg.channels[3] = yaw\n",
    "    msg.channels[4] = 0\n",
    "    msg.channels[5] = 0\n",
    "    msg.channels[6] = 0\n",
    "    msg.channels[7] = 0\n",
    "    rc_pub.publish(msg)"
   ]
  },
  {
   "cell_type": "markdown",
   "metadata": {},
   "source": [
    "There are some other files within the source directory as you can observe, and some of these are test files or the beginnings of further work. If you have any questions on those files or even continued questions regarding this program, feel free to email: [brodeurtristan@gmail.com](mailto:brodeurtristan@gmail.com)."
   ]
  }
 ],
 "metadata": {
  "kernelspec": {
   "display_name": "Python 3",
   "language": "python",
   "name": "python3"
  },
  "language_info": {
   "codemirror_mode": {
    "name": "ipython",
    "version": 3
   },
   "file_extension": ".py",
   "mimetype": "text/x-python",
   "name": "python",
   "nbconvert_exporter": "python",
   "pygments_lexer": "ipython3",
   "version": "3.7.2"
  }
 },
 "nbformat": 4,
 "nbformat_minor": 2
}
